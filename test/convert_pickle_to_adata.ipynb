{
 "cells": [
  {
   "cell_type": "code",
   "execution_count": 1,
   "metadata": {},
   "outputs": [],
   "source": [
    "import pickle\n",
    "import scanpy as sc\n",
    "import os\n",
    "import pandas as pd"
   ]
  },
  {
   "cell_type": "code",
   "execution_count": 39,
   "metadata": {},
   "outputs": [],
   "source": [
    "def show_feature_umap(adata, feature, embedding, cmap = None, sort=False, ascending=True, figwidth=510, figheight=300, **kws):\n",
    "    \"\"\"\n",
    "      绘制特征umap\n",
    "    \"\"\"\n",
    "    if cmap is None:\n",
    "        cmap = color_map\n",
    "    embedding.columns = ['umap_1', 'umap_2']\n",
    "    pdf = pd.concat([embedding, adata[:,feature].to_df()], axis=1)\n",
    "    if sort is True:\n",
    "      pdf = pdf.sort_values(by=feature, ascending=ascending)\n",
    "    plot = px.scatter(\n",
    "    \t\tdata_frame = pdf,\n",
    "    \t\tx = 'umap_1', y = 'umap_2', color = feature,\n",
    "    \t\tcolor_continuous_scale = cmap, width=figwidth, height=figheight,\n",
    "        **kws\n",
    "    \t)\n",
    "    plot.update_yaxes(visible=False)\n",
    "    plot.update_xaxes(visible=False)\n",
    "    plot.update_traces(marker_size=3,\n",
    "                      marker_opacity=1)\n",
    "    plot.update_layout(\n",
    "      margin=dict(l=0, t=0, b=0),\n",
    "      plot_bgcolor = '#ffffff', \n",
    "      uirevision='constant',\n",
    "      legend_itemsizing = 'constant',\n",
    "      legend=dict(\n",
    "            title='',\n",
    "            orientation='v',\n",
    "            yanchor='middle',\n",
    "            xanchor='right',  # 设置图例在右侧\n",
    "            y=0.5,\n",
    "            x=1,  # 调整图例在横向的位置\n",
    "    ),\n",
    "    )\n",
    "    plot.for_each_annotation(lambda a: a.update(text=a.text.split(\"=\")[-1],font_size = 20)) \n",
    "    return plot\n",
    "\n",
    "def getStageAdata(adata, stage):\n",
    "      return adata[adata.obs['stage']==stage].to_memory().copy()"
   ]
  },
  {
   "cell_type": "code",
   "execution_count": 33,
   "metadata": {},
   "outputs": [],
   "source": [
    "h5ad_path = '/data1/share/omics-viewer/reik/backedModeData/reik.h5ad'\n",
    "pickle_root = get_file_path('pickle/')\n",
    "marker_pkl_path = get_file_path('marker/')\n",
    "umap_path = get_file_path('all_combine_umap.csv')\n",
    "scenic_root = get_file_path('scenic/')\n",
    "color_path = get_file_path('celltype_color.csv')\n",
    "\n",
    "exp_data = load_exp_data(h5ad_path)\n",
    "stage_list = exp_data.obs['stage'].unique().tolist()\n",
    "umap = load_umap_data(umap_path, stage_list)\n",
    "regulon_geneset, auc_data = load_regulon_geneset_and_auc_data(pickle_root, scenic_root, stage_list)\n",
    "celltype_colors = set_color(color_path)\n",
    "num_stages = set_num_stages(stage_list)\n",
    "df = get_marker_tableData(marker_pkl_path, stage_list)"
   ]
  },
  {
   "cell_type": "code",
   "execution_count": 44,
   "metadata": {},
   "outputs": [],
   "source": [
    "data = {}\n",
    "for stage in adata.obs['stage'].unique():\n",
    "    data[stage] = getStageAdata(adata, stage)"
   ]
  },
  {
   "cell_type": "code",
   "execution_count": 3,
   "metadata": {},
   "outputs": [
    {
     "data": {
      "text/plain": [
       "True"
      ]
     },
     "execution_count": 3,
     "metadata": {},
     "output_type": "execute_result"
    }
   ],
   "source": [
    "t = {1:2}\n",
    "type(t)==dict"
   ]
  }
 ],
 "metadata": {
  "kernelspec": {
   "display_name": "omics",
   "language": "python",
   "name": "omics"
  },
  "language_info": {
   "codemirror_mode": {
    "name": "ipython",
    "version": 3
   },
   "file_extension": ".py",
   "mimetype": "text/x-python",
   "name": "python",
   "nbconvert_exporter": "python",
   "pygments_lexer": "ipython3",
   "version": "3.11.3"
  }
 },
 "nbformat": 4,
 "nbformat_minor": 2
}
