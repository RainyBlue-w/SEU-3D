{
 "cells": [
  {
   "cell_type": "code",
   "execution_count": 1,
   "metadata": {},
   "outputs": [],
   "source": [
    "import psutil\n",
    "import os"
   ]
  },
  {
   "cell_type": "code",
   "execution_count": 17,
   "metadata": {},
   "outputs": [
    {
     "name": "stdout",
     "output_type": "stream",
     "text": [
      "1.2905006408691406 19.27987289428711\n",
      "0.07165908813476562 1.0023193359375\n",
      "sleep 1s, round: 1\n",
      "sleep 1s, round: 2\n",
      "sleep 1s, round: 3\n",
      "sleep 1s, round: 4\n",
      "sleep 1s, round: 5\n",
      "sleep 1s, round: 6\n",
      "sleep 1s, round: 7\n",
      "sleep 1s, round: 8\n",
      "sleep 1s, round: 9\n",
      "sleep 1s, round: 10\n",
      "sleep 1s, round: 11\n",
      "sleep 1s, round: 12\n",
      "sleep 1s, round: 13\n",
      "sleep 1s, round: 14\n",
      "sleep 1s, round: 15\n",
      "sleep 1s, round: 16\n",
      "sleep 1s, round: 17\n",
      "sleep 1s, round: 18\n",
      "sleep 1s, round: 19\n",
      "sleep 1s, round: 20\n",
      "sleep 1s, round: 21\n",
      "sleep 1s, round: 22\n",
      "sleep 1s, round: 23\n",
      "sleep 1s, round: 24\n",
      "sleep 1s, round: 25\n",
      "sleep 1s, round: 26\n",
      "sleep 1s, round: 27\n",
      "sleep 1s, round: 28\n",
      "sleep 1s, round: 29\n",
      "sleep 1s, round: 30\n",
      "sleep 1s, round: 31\n",
      "sleep 1s, round: 32\n",
      "sleep 1s, round: 33\n",
      "sleep 1s, round: 34\n",
      "sleep 1s, round: 35\n",
      "sleep 1s, round: 36\n",
      "sleep 1s, round: 37\n",
      "sleep 1s, round: 38\n",
      "sleep 1s, round: 39\n",
      "sleep 1s, round: 40\n",
      "sleep 1s, round: 41\n",
      "sleep 1s, round: 42\n",
      "sleep 1s, round: 43\n",
      "sleep 1s, round: 44\n",
      "sleep 1s, round: 45\n",
      "sleep 1s, round: 46\n",
      "sleep 1s, round: 47\n",
      "sleep 1s, round: 48\n",
      "sleep 1s, round: 49\n",
      "sleep 1s, round: 50\n",
      "sleep 1s, round: 51\n",
      "sleep 1s, round: 52\n",
      "sleep 1s, round: 53\n",
      "sleep 1s, round: 54\n",
      "sleep 1s, round: 55\n",
      "sleep 1s, round: 56\n",
      "sleep 1s, round: 57\n",
      "sleep 1s, round: 58\n",
      "sleep 1s, round: 59\n",
      "sleep 1s, round: 60\n",
      "sleep 1s, round: 61\n",
      "sleep 1s, round: 62\n",
      "sleep 1s, round: 63\n",
      "sleep 1s, round: 64\n",
      "sleep 1s, round: 65\n",
      "sleep 1s, round: 66\n",
      "sleep 1s, round: 67\n",
      "sleep 1s, round: 68\n",
      "sleep 1s, round: 69\n",
      "sleep 1s, round: 70\n",
      "sleep 1s, round: 71\n",
      "sleep 1s, round: 72\n",
      "sleep 1s, round: 73\n",
      "sleep 1s, round: 74\n",
      "sleep 1s, round: 75\n",
      "sleep 1s, round: 76\n",
      "sleep 1s, round: 77\n",
      "sleep 1s, round: 78\n",
      "sleep 1s, round: 79\n",
      "sleep 1s, round: 80\n",
      "sleep 1s, round: 81\n",
      "sleep 1s, round: 82\n",
      "sleep 1s, round: 83\n",
      "sleep 1s, round: 84\n",
      "sleep 1s, round: 85\n",
      "sleep 1s, round: 86\n",
      "sleep 1s, round: 87\n",
      "sleep 1s, round: 88\n",
      "sleep 1s, round: 89\n",
      "sleep 1s, round: 90\n",
      "sleep 1s, round: 91\n",
      "sleep 1s, round: 92\n",
      "sleep 1s, round: 93\n",
      "sleep 1s, round: 94\n",
      "sleep 1s, round: 95\n",
      "sleep 1s, round: 96\n",
      "sleep 1s, round: 97\n",
      "sleep 1s, round: 98\n",
      "sleep 1s, round: 99\n",
      "sleep 1s, round: 100\n",
      "sleep 1s, round: 101\n",
      "sleep 1s, round: 102\n",
      "sleep 1s, round: 103\n",
      "sleep 1s, round: 104\n",
      "sleep 1s, round: 105\n",
      "sleep 1s, round: 106\n",
      "sleep 1s, round: 107\n",
      "sleep 1s, round: 108\n",
      "sleep 1s, round: 109\n",
      "sleep 1s, round: 110\n",
      "sleep 1s, round: 111\n",
      "sleep 1s, round: 112\n",
      "sleep 1s, round: 113\n",
      "sleep 1s, round: 114\n",
      "sleep 1s, round: 115\n",
      "sleep 1s, round: 116\n",
      "sleep 1s, round: 117\n",
      "sleep 1s, round: 118\n",
      "sleep 1s, round: 119\n",
      "sleep 1s, round: 120\n",
      "sleep 1s, round: 121\n",
      "sleep 1s, round: 122\n",
      "sleep 1s, round: 123\n",
      "sleep 1s, round: 124\n",
      "sleep 1s, round: 125\n",
      "sleep 1s, round: 126\n",
      "sleep 1s, round: 127\n",
      "sleep 1s, round: 128\n",
      "sleep 1s, round: 129\n",
      "sleep 1s, round: 130\n",
      "sleep 1s, round: 131\n",
      "sleep 1s, round: 132\n",
      "sleep 1s, round: 133\n",
      "sleep 1s, round: 134\n",
      "sleep 1s, round: 135\n",
      "sleep 1s, round: 136\n",
      "sleep 1s, round: 137\n",
      "sleep 1s, round: 138\n",
      "sleep 1s, round: 139\n",
      "sleep 1s, round: 140\n",
      "sleep 1s, round: 141\n",
      "sleep 1s, round: 142\n",
      "sleep 1s, round: 143\n",
      "sleep 1s, round: 144\n",
      "sleep 1s, round: 145\n",
      "sleep 1s, round: 146\n",
      "sleep 1s, round: 147\n"
     ]
    },
    {
     "ename": "KeyboardInterrupt",
     "evalue": "",
     "output_type": "error",
     "traceback": [
      "\u001b[0;31m---------------------------------------------------------------------------\u001b[0m",
      "\u001b[0;31mKeyboardInterrupt\u001b[0m                         Traceback (most recent call last)",
      "Cell \u001b[0;32mIn[17], line 42\u001b[0m\n\u001b[1;32m     40\u001b[0m \u001b[38;5;28mround\u001b[39m\u001b[38;5;241m+\u001b[39m\u001b[38;5;241m=\u001b[39m\u001b[38;5;241m1\u001b[39m\n\u001b[1;32m     41\u001b[0m \u001b[38;5;28mprint\u001b[39m(\u001b[38;5;124m'\u001b[39m\u001b[38;5;124msleep 1s,\u001b[39m\u001b[38;5;124m'\u001b[39m, \u001b[38;5;124m'\u001b[39m\u001b[38;5;124mround:\u001b[39m\u001b[38;5;124m'\u001b[39m, \u001b[38;5;28mround\u001b[39m)\n\u001b[0;32m---> 42\u001b[0m time\u001b[38;5;241m.\u001b[39msleep(\u001b[38;5;241m1\u001b[39m)\n",
      "\u001b[0;31mKeyboardInterrupt\u001b[0m: "
     ]
    }
   ],
   "source": [
    "def getPID(pwd):\n",
    "    current_user = os.getlogin()\n",
    "    for proc in psutil.process_iter(['pid', 'username', 'exe', 'cmdline', 'cwd']):\n",
    "        if proc.info['username'] == current_user and 'python' in str(proc):\n",
    "            pid = proc.info['pid']\n",
    "            script_name = proc.info['cmdline']  # 获取完整命令行\n",
    "            cwd = proc.info['cwd']  # 获取当前工作目录\n",
    "            if cwd==pwd:\n",
    "                return pid\n",
    "            \n",
    "pwd_backed = '/home/zhouyb/pyProject/dash_spatialomicsviewer'\n",
    "pid_backed = getPID(pwd_backed)\n",
    "pwd_ori = '/home/zhouyb/pyProject/testDashMemory/dash_spatialomicsviewer'\n",
    "pid_ori = getPID(pwd_ori)\n",
    "def get_rss_vms(pid):\n",
    "    process = psutil.Process(pid)\n",
    "    memory_info = process.memory_info()\n",
    "    rss = memory_info.rss / 1024 ** 2\n",
    "    vms = memory_info.vms / 1024 ** 2\n",
    "    return rss/1024, vms/1024\n",
    "\n",
    "rss_backed, vms_backed = get_rss_vms(pid_backed)\n",
    "rss_ori, vms_ori = get_rss_vms(pid_ori)\n",
    "print(rss_backed, vms_backed)\n",
    "print(rss_ori, vms_ori)\n",
    "\n",
    "import time\n",
    "rssOri = []\n",
    "rssBack = []\n",
    "vmsOri = []\n",
    "vmsBack = []\n",
    "round = 0\n",
    "while True:\n",
    "    rss_backed, vms_backed = get_rss_vms(pid_backed)\n",
    "    rss_ori, vms_ori = get_rss_vms(pid_ori)\n",
    "    rssOri.append(rss_ori)\n",
    "    vmsOri.append(vms_ori)\n",
    "    rssBack.append(rss_backed)\n",
    "    vmsBack.append(vms_backed)\n",
    "    round+=1\n",
    "    print('sleep 1s,', 'round:', round)\n",
    "    time.sleep(1)"
   ]
  },
  {
   "cell_type": "code",
   "execution_count": 18,
   "metadata": {},
   "outputs": [],
   "source": [
    "rss = list(set(rssBack))\n",
    "vms = list(set(vmsBack))\n",
    "rss.sort()\n",
    "vms.sort()"
   ]
  },
  {
   "cell_type": "code",
   "execution_count": 23,
   "metadata": {},
   "outputs": [
    {
     "data": {
      "text/plain": [
       "[19.023544311523438,\n",
       " 19.148544311523438,\n",
       " 19.1485595703125,\n",
       " 19.2110595703125,\n",
       " 19.27987289428711,\n",
       " 19.42050552368164,\n",
       " 19.66577911376953,\n",
       " 19.686138153076172,\n",
       " 19.6939697265625,\n",
       " 19.902114868164062,\n",
       " 19.902130126953125,\n",
       " 19.972858428955078,\n",
       " 20.097835540771484,\n",
       " 20.097850799560547,\n",
       " 20.097896575927734,\n",
       " 20.10274887084961,\n",
       " 20.154483795166016,\n",
       " 20.468185424804688,\n",
       " 20.483848571777344,\n",
       " 20.530685424804688,\n",
       " 20.538516998291016,\n",
       " 20.573009490966797,\n",
       " 20.611106872558594,\n",
       " 20.691513061523438,\n",
       " 20.718185424804688,\n",
       " 20.8245849609375,\n",
       " 20.84320068359375,\n",
       " 20.98470687866211,\n",
       " 20.984722137451172,\n",
       " 21.460857391357422,\n",
       " 21.849124908447266]"
      ]
     },
     "execution_count": 23,
     "metadata": {},
     "output_type": "execute_result"
    }
   ],
   "source": [
    "vms"
   ]
  },
  {
   "cell_type": "code",
   "execution_count": null,
   "metadata": {},
   "outputs": [
    {
     "name": "stdout",
     "output_type": "stream",
     "text": [
      "1.2936859130859375 19.28185272216797\n",
      "10.691108703613281 28.552894592285156\n"
     ]
    }
   ],
   "source": []
  },
  {
   "cell_type": "code",
   "execution_count": null,
   "metadata": {},
   "outputs": [],
   "source": []
  },
  {
   "cell_type": "code",
   "execution_count": null,
   "metadata": {},
   "outputs": [],
   "source": [
    "rssOri = {10.691108703613281,10.731006622314453,10.736865997314453,10.763057708740234,10.785690307617188,10.807735443115234,10.814155578613281,10.81612777709961,10.818939208984375,11.227115631103516,11.23250961303711}\n",
    "vmsOri = {27.971370697021484,27.975276947021484,27.976253509521484,28.552894592285156,28.743938446044922,28.96405792236328,29.529136657714844}\n",
    "\n",
    "rssBack = {1.2936859130859375,1.7978286743164062,2.01483154296875,2.1134300231933594,2.1653404235839844,2.1895980834960938,2.299724578857422,2.3045654296875,2.3274383544921875,2.3746414184570312,2.443462371826172,2.4898643493652344,2.585124969482422,3.0180511474609375,3.2113800048828125,3.5464248657226562,3.8722305297851562}\n",
    "vmsBack = {18.955211639404297,19.205211639404297,19.28185272216797,19.524913787841797,19.525890350341797,19.588390350341797,19.650890350341797,19.776866912841797,20.37322235107422,20.467742919921875,20.495948791503906,20.50481414794922,20.51758575439453,21.84893035888672,22.256858825683594}"
   ]
  },
  {
   "cell_type": "code",
   "execution_count": 12,
   "metadata": {},
   "outputs": [],
   "source": [
    "rssBack = list(rssBack)\n",
    "vmsBack = list(vmsBack)"
   ]
  },
  {
   "cell_type": "code",
   "execution_count": 15,
   "metadata": {},
   "outputs": [],
   "source": [
    "rssBack.sort()\n",
    "vmsBack.sort()"
   ]
  },
  {
   "cell_type": "code",
   "execution_count": 16,
   "metadata": {},
   "outputs": [
    {
     "data": {
      "text/plain": [
       "[0.07076644897460938]"
      ]
     },
     "execution_count": 16,
     "metadata": {},
     "output_type": "execute_result"
    }
   ],
   "source": [
    "rssBack"
   ]
  }
 ],
 "metadata": {
  "kernelspec": {
   "display_name": "omics",
   "language": "python",
   "name": "omics"
  },
  "language_info": {
   "codemirror_mode": {
    "name": "ipython",
    "version": 3
   },
   "file_extension": ".py",
   "mimetype": "text/x-python",
   "name": "python",
   "nbconvert_exporter": "python",
   "pygments_lexer": "ipython3",
   "version": "3.11.3"
  }
 },
 "nbformat": 4,
 "nbformat_minor": 2
}
