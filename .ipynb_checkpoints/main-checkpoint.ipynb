{
 "cells": [
  {
   "cell_type": "code",
   "execution_count": null,
   "id": "2602d3c8-6d94-4533-94f8-20581fa29023",
   "metadata": {},
   "outputs": [],
   "source": [
    "from dash import Dash, dcc, html, dash_table, Input, Output, callback, no_update, State, Patch, DiskcacheManager, clientside_callback\n",
    "from dash.dash_table.Format import Format, Group, Scheme, Symbol\n",
    "from dash.exceptions import PreventUpdate\n",
    "\n",
    "import plotly.express as px\n",
    "import plotly.graph_objects as go\n",
    "import plotly\n",
    "from plotly.subplots import make_subplots\n",
    "from plotnine import *\n",
    "import plotnine.options\n",
    "\n",
    "from PIL import Image\n",
    "import dash_bootstrap_components as dbc\n",
    "import scanpy as sc\n",
    "import os\n",
    "import pandas as pd\n",
    "import dask.dataframe as dd\n",
    "import numpy as np\n",
    "# import loompy as lp\n",
    "import h5py\n",
    "import json\n",
    "\n",
    "from matplotlib import cm\n",
    "from matplotlib.colors import ListedColormap, LinearSegmentedColormap\n",
    "import matplotlib.pyplot as plt\n",
    "import re\n",
    "import seaborn as sns\n",
    "from concurrent import futures\n",
    "\n",
    "import diskcache\n",
    "background_callback_manager = DiskcacheManager(diskcache.Cache(\"/rad/wuc/dash_data/spatial/cache\"))\n",
    "\n",
    "import dash\n",
    "from dash import Dash, html, dcc\n",
    "\n",
    "dbc_css = \"/home/wuc/dashapps/css/dbc.min.css\"\n",
    "app = Dash(__name__, external_stylesheets=[dbc.themes.BOOTSTRAP, dbc_css],\n",
    "          use_pages=True)\n",
    "\n",
    "app.layout = html.Div([\n",
    "    html.H1('Multi-page app with Dash Pages'),\n",
    "    html.Div([\n",
    "        html.Div(\n",
    "            dcc.Link(f\"{page['name']} - {page['path']}\", href=page[\"relative_path\"])\n",
    "        ) for page in dash.page_registry.values()\n",
    "    ]),\n",
    "    dash.page_container\n",
    "])\n",
    "\n",
    "#run server\n",
    "if __name__ == \"__main__\":\n",
    "    app.run(\n",
    "    host='10.193.0.208',\n",
    "    port='8054',\n",
    "    proxy=None,\n",
    "    debug=False,\n",
    "    use_reloader=False,\n",
    "    jupyter_mode='external'\n",
    ")"
   ]
  },
  {
   "cell_type": "code",
   "execution_count": null,
   "id": "c35b37fe-280d-4d81-9d84-79cfe7e32d11",
   "metadata": {},
   "outputs": [],
   "source": [
    "1"
   ]
  },
  {
   "cell_type": "code",
   "execution_count": null,
   "id": "4fbac8f6-4edd-4ea8-8d3d-d74c8f870e1f",
   "metadata": {},
   "outputs": [],
   "source": []
  }
 ],
 "metadata": {
  "kernelspec": {
   "display_name": "CellOracle",
   "language": "python",
   "name": "celloracle"
  },
  "language_info": {
   "codemirror_mode": {
    "name": "ipython",
    "version": 3
   },
   "file_extension": ".py",
   "mimetype": "text/x-python",
   "name": "python",
   "nbconvert_exporter": "python",
   "pygments_lexer": "ipython3",
   "version": "3.8.16"
  }
 },
 "nbformat": 4,
 "nbformat_minor": 5
}
